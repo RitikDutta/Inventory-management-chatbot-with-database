{
 "cells": [
  {
   "cell_type": "code",
   "execution_count": 7,
   "id": "6bff674b",
   "metadata": {},
   "outputs": [],
   "source": [
    "import firebase_admin\n",
    "from firebase_admin import credentials\n",
    "from pprint import pprint\n",
    "from firebase_admin import db"
   ]
  },
  {
   "cell_type": "code",
   "execution_count": 8,
   "id": "46db1475",
   "metadata": {},
   "outputs": [
    {
     "ename": "ValueError",
     "evalue": "The default Firebase app already exists. This means you called initialize_app() more than once without providing an app name as the second argument. In most cases you only need to call initialize_app() once. But if you do want to initialize multiple apps, pass a second argument to initialize_app() to give each app a unique name.",
     "output_type": "error",
     "traceback": [
      "\u001b[0;31m---------------------------------------------------------------------------\u001b[0m",
      "\u001b[0;31mValueError\u001b[0m                                Traceback (most recent call last)",
      "\u001b[0;32m<ipython-input-8-5db612e5be82>\u001b[0m in \u001b[0;36m<module>\u001b[0;34m\u001b[0m\n\u001b[1;32m      1\u001b[0m \u001b[0mcred_obj\u001b[0m \u001b[0;34m=\u001b[0m \u001b[0mfirebase_admin\u001b[0m\u001b[0;34m.\u001b[0m\u001b[0mcredentials\u001b[0m\u001b[0;34m.\u001b[0m\u001b[0mCertificate\u001b[0m\u001b[0;34m(\u001b[0m\u001b[0;34m'firebase.json'\u001b[0m\u001b[0;34m)\u001b[0m\u001b[0;34m\u001b[0m\u001b[0;34m\u001b[0m\u001b[0m\n\u001b[0;32m----> 2\u001b[0;31m default_app = firebase_admin.initialize_app(cred_obj, {\n\u001b[0m\u001b[1;32m      3\u001b[0m         \u001b[0;34m'databaseURL'\u001b[0m\u001b[0;34m:\u001b[0m\u001b[0;34m'https://wellbaked-default-rtdb.firebaseio.com/'\u001b[0m\u001b[0;34m\u001b[0m\u001b[0;34m\u001b[0m\u001b[0m\n\u001b[1;32m      4\u001b[0m \t})\n",
      "\u001b[0;32m~/Developer_Applications/Anaconda3/envs/Retail/lib/python3.8/site-packages/firebase_admin/__init__.py\u001b[0m in \u001b[0;36minitialize_app\u001b[0;34m(credential, options, name)\u001b[0m\n\u001b[1;32m     69\u001b[0m \u001b[0;34m\u001b[0m\u001b[0m\n\u001b[1;32m     70\u001b[0m     \u001b[0;32mif\u001b[0m \u001b[0mname\u001b[0m \u001b[0;34m==\u001b[0m \u001b[0m_DEFAULT_APP_NAME\u001b[0m\u001b[0;34m:\u001b[0m\u001b[0;34m\u001b[0m\u001b[0;34m\u001b[0m\u001b[0m\n\u001b[0;32m---> 71\u001b[0;31m         raise ValueError((\n\u001b[0m\u001b[1;32m     72\u001b[0m             \u001b[0;34m'The default Firebase app already exists. This means you called '\u001b[0m\u001b[0;34m\u001b[0m\u001b[0;34m\u001b[0m\u001b[0m\n\u001b[1;32m     73\u001b[0m             \u001b[0;34m'initialize_app() more than once without providing an app name as '\u001b[0m\u001b[0;34m\u001b[0m\u001b[0;34m\u001b[0m\u001b[0m\n",
      "\u001b[0;31mValueError\u001b[0m: The default Firebase app already exists. This means you called initialize_app() more than once without providing an app name as the second argument. In most cases you only need to call initialize_app() once. But if you do want to initialize multiple apps, pass a second argument to initialize_app() to give each app a unique name."
     ]
    }
   ],
   "source": [
    "cred_obj = firebase_admin.credentials.Certificate('firebase.json')\n",
    "default_app = firebase_admin.initialize_app(cred_obj, {\n",
    "\t'databaseURL':'https://wellbaked-default-rtdb.firebaseio.com/'\n",
    "\t})"
   ]
  },
  {
   "cell_type": "code",
   "execution_count": 9,
   "id": "672a9781",
   "metadata": {},
   "outputs": [],
   "source": [
    "ref = db.reference(\"/\")"
   ]
  },
  {
   "cell_type": "code",
   "execution_count": 5,
   "id": "4f60a9dc",
   "metadata": {},
   "outputs": [],
   "source": [
    "def add_orders(name, quantity, product):\n",
    "    data = {\n",
    "        'current_order': current,\n",
    "        'order': [product],\n",
    "    }"
   ]
  },
  {
   "cell_type": "code",
   "execution_count": null,
   "id": "318e391a",
   "metadata": {},
   "outputs": [],
   "source": [
    "ref.child('customers').child('cool ronit').update(data)"
   ]
  },
  {
   "cell_type": "code",
   "execution_count": 84,
   "id": "03f7b737",
   "metadata": {},
   "outputs": [],
   "source": [
    "def is_product_available(product, pack=1):\n",
    "    data = ref.child('products').child(product).child(\"{}_pack_{}\".format(pack, product)).get()\n",
    "#     pprint(data)\n",
    "    if not bool(data):\n",
    "        print(\"product not available\")\n",
    "        quantity=0\n",
    "        price = 0\n",
    "    else:\n",
    "        quantity = data['quantity']\n",
    "        price = data['price']\n",
    "        print(quantity, price)\n",
    "    return quantity, price"
   ]
  },
  {
   "cell_type": "code",
   "execution_count": 21,
   "id": "d76c0c6f",
   "metadata": {},
   "outputs": [
    {
     "name": "stdout",
     "output_type": "stream",
     "text": [
      "10 12\n"
     ]
    },
    {
     "data": {
      "text/plain": [
       "12"
      ]
     },
     "execution_count": 21,
     "metadata": {},
     "output_type": "execute_result"
    }
   ],
   "source": [
    "is_priduct_available('maggie')[1]"
   ]
  },
  {
   "cell_type": "code",
   "execution_count": 11,
   "id": "919c306a",
   "metadata": {},
   "outputs": [],
   "source": [
    "def get_orders(name):\n",
    "    data = ref.child('customers').child(name).get()\n",
    "    pprint(data['order{}'.format(data['current_order'])])"
   ]
  },
  {
   "cell_type": "code",
   "execution_count": 12,
   "id": "8d3dd3cf",
   "metadata": {},
   "outputs": [
    {
     "name": "stdout",
     "output_type": "stream",
     "text": [
      "{'cold drink': 7, 'curd': 5, 'maggie': 28, 'milk': 10, 'pasta': 6}\n"
     ]
    }
   ],
   "source": [
    "get_orders('cool ronit')"
   ]
  },
  {
   "cell_type": "code",
   "execution_count": 84,
   "id": "ccbcd290",
   "metadata": {},
   "outputs": [],
   "source": [
    "def add_order_dict(name, product, quantity=1):\n",
    "  if is_product_available(product)[0] >= quantity:\n",
    "    user = ref.child('customers').child(name).get()\n",
    "    current_order = user['current_order']\n",
    "    orders = user['order{}'.format(current_order)]\n",
    "    orders[product] = orders.get(product, 0) + quantity\n",
    "    pprint(orders)\n",
    "    user['order{}'.format(current_order)].update(orders)\n",
    "#     ref.child('customers').child(name).update(user)\n",
    "    pprint(user)\n",
    "  else:\n",
    "    pprint(\"not applicable\")"
   ]
  },
  {
   "cell_type": "code",
   "execution_count": 59,
   "id": "2b3b5db7",
   "metadata": {},
   "outputs": [
    {
     "name": "stdout",
     "output_type": "stream",
     "text": [
      "cold drink 7\n",
      "curd 5\n",
      "maggie 28\n",
      "milk 10\n",
      "pasta 6\n"
     ]
    }
   ],
   "source": [
    "user = ref.child('customers').child('cool ronit').get()\n",
    "current_order = user['current_order']\n",
    "orders = user['order{}'.format(current_order)]\n",
    "for a in orders:\n",
    "    print(a, orders[a])\n",
    "#     print('*'*20)\n",
    "#     add_order_dict('cool ronit', a, -orders[a])"
   ]
  },
  {
   "cell_type": "code",
   "execution_count": 85,
   "id": "90bd3ba5",
   "metadata": {},
   "outputs": [
    {
     "name": "stdout",
     "output_type": "stream",
     "text": [
      "10 12\n",
      "{'cold drink': 7, 'curd': 5, 'maggie': 8, 'milk': 10, 'pasta': 6}\n",
      "{'address': '2341 andhari mumbai',\n",
      " 'age': 54,\n",
      " 'current_order': 1,\n",
      " 'mobile': 34232344,\n",
      " 'name': 'ronit',\n",
      " 'order1': {'cold drink': 7, 'curd': 5, 'maggie': 8, 'milk': 10, 'pasta': 6}}\n"
     ]
    }
   ],
   "source": [
    "\n",
    "add_order_dict('cool ronit', 'maggie', -20)"
   ]
  },
  {
   "cell_type": "code",
   "execution_count": 82,
   "id": "59462ecf",
   "metadata": {},
   "outputs": [],
   "source": [
    "def subt_order_dict(name, product, quantity=1):\n",
    "  if is_product_available(product)[0] >= quantity:\n",
    "    user = ref.child('customers').child(name).get()\n",
    "    current_order = user['current_order']\n",
    "    orders = user['order{}'.format(current_order)]\n",
    "    orders[product] = orders.get(product, 0) + quantity\n",
    "    pprint(orders)\n",
    "    user['order{}'.format(current_order)].update(orders)\n",
    "#     ref.child('customers').child(name).update(user)\n",
    "    pprint(user)\n",
    "  else:\n",
    "    pprint(\"not applicable\")"
   ]
  },
  {
   "cell_type": "code",
   "execution_count": 83,
   "id": "17232a24",
   "metadata": {},
   "outputs": [
    {
     "data": {
      "text/plain": [
       "{'1_pack_maggie': {'discount': 0,\n",
       "  'discription': 'MAGGI Noodles is a part of about 70% urban Indian households and with more than 2.5 Bio serves that are consumed by people every year (2x Indian population) it can be an ideal carrier for iron fortification and thus contribute to closing the gap of Iron deficiency.',\n",
       "  'image_link': 'https://mybigplunge.com/wp-content/uploads/2015/11/Maggie-is-back-1.jpg',\n",
       "  'name': 'maggie',\n",
       "  'pack': 1,\n",
       "  'price': 12,\n",
       "  'quantity': 10}}"
      ]
     },
     "execution_count": 83,
     "metadata": {},
     "output_type": "execute_result"
    }
   ],
   "source": [
    "ref.child('products').child('maggie').get()"
   ]
  },
  {
   "cell_type": "code",
   "execution_count": 113,
   "id": "0b1acc91",
   "metadata": {},
   "outputs": [],
   "source": [
    "def sub_product(product, sub_quantity=0, pack=1):\n",
    "    data_product = ref.child('products').child(product).child('{}_pack_{}'.format(pack, product)).get()\n",
    "    data_product['quantity'] = orders.get(product, 0) + sub_quantity\n",
    "    ref.child('products').child(product).child('{}_pack_{}'.format(pack, product)).update(sub_quantity)"
   ]
  },
  {
   "cell_type": "code",
   "execution_count": 114,
   "id": "e1e2d87a",
   "metadata": {},
   "outputs": [
    {
     "ename": "ValueError",
     "evalue": "Value argument must be a non-empty dictionary.",
     "output_type": "error",
     "traceback": [
      "\u001b[0;31m---------------------------------------------------------------------------\u001b[0m",
      "\u001b[0;31mValueError\u001b[0m                                Traceback (most recent call last)",
      "\u001b[0;32m<ipython-input-114-d0746c89eaf9>\u001b[0m in \u001b[0;36m<module>\u001b[0;34m\u001b[0m\n\u001b[0;32m----> 1\u001b[0;31m \u001b[0msub_product\u001b[0m\u001b[0;34m(\u001b[0m\u001b[0;34m'maggie'\u001b[0m\u001b[0;34m)\u001b[0m\u001b[0;34m\u001b[0m\u001b[0;34m\u001b[0m\u001b[0m\n\u001b[0m",
      "\u001b[0;32m<ipython-input-113-b48822274937>\u001b[0m in \u001b[0;36msub_product\u001b[0;34m(product, sub_quantity, pack)\u001b[0m\n\u001b[1;32m      2\u001b[0m     \u001b[0mdata_product\u001b[0m \u001b[0;34m=\u001b[0m \u001b[0mref\u001b[0m\u001b[0;34m.\u001b[0m\u001b[0mchild\u001b[0m\u001b[0;34m(\u001b[0m\u001b[0;34m'products'\u001b[0m\u001b[0;34m)\u001b[0m\u001b[0;34m.\u001b[0m\u001b[0mchild\u001b[0m\u001b[0;34m(\u001b[0m\u001b[0mproduct\u001b[0m\u001b[0;34m)\u001b[0m\u001b[0;34m.\u001b[0m\u001b[0mchild\u001b[0m\u001b[0;34m(\u001b[0m\u001b[0;34m'{}_pack_{}'\u001b[0m\u001b[0;34m.\u001b[0m\u001b[0mformat\u001b[0m\u001b[0;34m(\u001b[0m\u001b[0mpack\u001b[0m\u001b[0;34m,\u001b[0m \u001b[0mproduct\u001b[0m\u001b[0;34m)\u001b[0m\u001b[0;34m)\u001b[0m\u001b[0;34m.\u001b[0m\u001b[0mget\u001b[0m\u001b[0;34m(\u001b[0m\u001b[0;34m)\u001b[0m\u001b[0;34m\u001b[0m\u001b[0;34m\u001b[0m\u001b[0m\n\u001b[1;32m      3\u001b[0m     \u001b[0mdata_product\u001b[0m\u001b[0;34m[\u001b[0m\u001b[0;34m'quantity'\u001b[0m\u001b[0;34m]\u001b[0m \u001b[0;34m=\u001b[0m \u001b[0morders\u001b[0m\u001b[0;34m.\u001b[0m\u001b[0mget\u001b[0m\u001b[0;34m(\u001b[0m\u001b[0mproduct\u001b[0m\u001b[0;34m,\u001b[0m \u001b[0;36m0\u001b[0m\u001b[0;34m)\u001b[0m \u001b[0;34m+\u001b[0m \u001b[0msub_quantity\u001b[0m\u001b[0;34m\u001b[0m\u001b[0;34m\u001b[0m\u001b[0m\n\u001b[0;32m----> 4\u001b[0;31m     \u001b[0mref\u001b[0m\u001b[0;34m.\u001b[0m\u001b[0mchild\u001b[0m\u001b[0;34m(\u001b[0m\u001b[0;34m'products'\u001b[0m\u001b[0;34m)\u001b[0m\u001b[0;34m.\u001b[0m\u001b[0mchild\u001b[0m\u001b[0;34m(\u001b[0m\u001b[0mproduct\u001b[0m\u001b[0;34m)\u001b[0m\u001b[0;34m.\u001b[0m\u001b[0mchild\u001b[0m\u001b[0;34m(\u001b[0m\u001b[0;34m'{}_pack_{}'\u001b[0m\u001b[0;34m.\u001b[0m\u001b[0mformat\u001b[0m\u001b[0;34m(\u001b[0m\u001b[0mpack\u001b[0m\u001b[0;34m,\u001b[0m \u001b[0mproduct\u001b[0m\u001b[0;34m)\u001b[0m\u001b[0;34m)\u001b[0m\u001b[0;34m.\u001b[0m\u001b[0mupdate\u001b[0m\u001b[0;34m(\u001b[0m\u001b[0msub_quantity\u001b[0m\u001b[0;34m)\u001b[0m\u001b[0;34m\u001b[0m\u001b[0;34m\u001b[0m\u001b[0m\n\u001b[0m",
      "\u001b[0;32m~/Developer_Applications/Anaconda3/envs/Retail/lib/python3.8/site-packages/firebase_admin/db.py\u001b[0m in \u001b[0;36mupdate\u001b[0;34m(self, value)\u001b[0m\n\u001b[1;32m    336\u001b[0m         \"\"\"\n\u001b[1;32m    337\u001b[0m         \u001b[0;32mif\u001b[0m \u001b[0;32mnot\u001b[0m \u001b[0mvalue\u001b[0m \u001b[0;32mor\u001b[0m \u001b[0;32mnot\u001b[0m \u001b[0misinstance\u001b[0m\u001b[0;34m(\u001b[0m\u001b[0mvalue\u001b[0m\u001b[0;34m,\u001b[0m \u001b[0mdict\u001b[0m\u001b[0;34m)\u001b[0m\u001b[0;34m:\u001b[0m\u001b[0;34m\u001b[0m\u001b[0;34m\u001b[0m\u001b[0m\n\u001b[0;32m--> 338\u001b[0;31m             \u001b[0;32mraise\u001b[0m \u001b[0mValueError\u001b[0m\u001b[0;34m(\u001b[0m\u001b[0;34m'Value argument must be a non-empty dictionary.'\u001b[0m\u001b[0;34m)\u001b[0m\u001b[0;34m\u001b[0m\u001b[0;34m\u001b[0m\u001b[0m\n\u001b[0m\u001b[1;32m    339\u001b[0m         \u001b[0;32mif\u001b[0m \u001b[0;32mNone\u001b[0m \u001b[0;32min\u001b[0m \u001b[0mvalue\u001b[0m\u001b[0;34m.\u001b[0m\u001b[0mkeys\u001b[0m\u001b[0;34m(\u001b[0m\u001b[0;34m)\u001b[0m\u001b[0;34m:\u001b[0m\u001b[0;34m\u001b[0m\u001b[0;34m\u001b[0m\u001b[0m\n\u001b[1;32m    340\u001b[0m             \u001b[0;32mraise\u001b[0m \u001b[0mValueError\u001b[0m\u001b[0;34m(\u001b[0m\u001b[0;34m'Dictionary must not contain None keys.'\u001b[0m\u001b[0;34m)\u001b[0m\u001b[0;34m\u001b[0m\u001b[0;34m\u001b[0m\u001b[0m\n",
      "\u001b[0;31mValueError\u001b[0m: Value argument must be a non-empty dictionary."
     ]
    }
   ],
   "source": [
    "sub_product('maggie')"
   ]
  },
  {
   "cell_type": "code",
   "execution_count": 19,
   "id": "907c7244",
   "metadata": {},
   "outputs": [],
   "source": [
    "data = ref.child('products').child('maggie').child('{}_pack_{}'.format(1, 'maggie')).get()"
   ]
  },
  {
   "cell_type": "code",
   "execution_count": 69,
   "id": "18002edc",
   "metadata": {},
   "outputs": [],
   "source": [
    "def sub_product(product, quantity=1, pack=1):\n",
    "    data = ref.child('products').child(product).child('{}_pack_{}'.format(pack, product)).get()\n",
    "    data.update({'quantity':data['quantity']-quantity})\n",
    "    ref.child('products').child(product).child('{}_pack_{}'.format(pack, product)).update(data)\n",
    "    pprint(data)"
   ]
  },
  {
   "cell_type": "code",
   "execution_count": 79,
   "id": "caaed715",
   "metadata": {},
   "outputs": [
    {
     "name": "stdout",
     "output_type": "stream",
     "text": [
      "{'discount': 0,\n",
      " 'discription': 'Goodlife Smart Homogenised Double Toned Milk UHT processed '\n",
      "                'milk with Min 1.5% fat and Min 9.0% SNF fortified with '\n",
      "                'vitamins A and D. Suitable for preparing tea/coffee, milk '\n",
      "                'shakes and milk delights for people leading a fitness '\n",
      "                'conscious lifestyle. Not a day passes by when we do not need '\n",
      "                'milk on a regular basis. If there are children in the house, '\n",
      "                'milk is a must. Your morning tea or coffee is incomplete '\n",
      "                'without it; breakfast cornflakes calls for it too.',\n",
      " 'image_link': 'https://www.bigbasket.com/media/uploads/p/l/242671_1-nandini-goodlife-toned-milk.jpg',\n",
      " 'name': 'milk',\n",
      " 'pack': 1,\n",
      " 'price': 23,\n",
      " 'quantity': 39}\n"
     ]
    }
   ],
   "source": [
    "sub_product('milk', 1)"
   ]
  },
  {
   "cell_type": "code",
   "execution_count": 83,
   "id": "647eda88",
   "metadata": {},
   "outputs": [
    {
     "name": "stdout",
     "output_type": "stream",
     "text": [
      "maggie 3\n",
      "{'discount': 0,\n",
      " 'discription': 'MAGGI Noodles is a part of about 70% urban Indian households '\n",
      "                'and with more than 2.5 Bio serves that are consumed by people '\n",
      "                'every year (2x Indian population) it can be an ideal carrier '\n",
      "                'for iron fortification and thus contribute to closing the gap '\n",
      "                'of Iron deficiency.',\n",
      " 'image_link': 'https://mybigplunge.com/wp-content/uploads/2015/11/Maggie-is-back-1.jpg',\n",
      " 'name': 'maggie',\n",
      " 'pack': 1,\n",
      " 'price': 12,\n",
      " 'quantity': 7}\n",
      "milk 2\n",
      "{'discount': 0,\n",
      " 'discription': 'Goodlife Smart Homogenised Double Toned Milk UHT processed '\n",
      "                'milk with Min 1.5% fat and Min 9.0% SNF fortified with '\n",
      "                'vitamins A and D. Suitable for preparing tea/coffee, milk '\n",
      "                'shakes and milk delights for people leading a fitness '\n",
      "                'conscious lifestyle. Not a day passes by when we do not need '\n",
      "                'milk on a regular basis. If there are children in the house, '\n",
      "                'milk is a must. Your morning tea or coffee is incomplete '\n",
      "                'without it; breakfast cornflakes calls for it too.',\n",
      " 'image_link': 'https://www.bigbasket.com/media/uploads/p/l/242671_1-nandini-goodlife-toned-milk.jpg',\n",
      " 'name': 'milk',\n",
      " 'pack': 1,\n",
      " 'price': 23,\n",
      " 'quantity': 37}\n"
     ]
    }
   ],
   "source": [
    "user = ref.child('customers').child('cool ronit').get()\n",
    "current_order = user['current_order']\n",
    "orders = user['order{}'.format(current_order)]\n",
    "for a in orders:\n",
    "    print(a, orders[a])\n",
    "    sub_product(a, orders[a])"
   ]
  },
  {
   "cell_type": "code",
   "execution_count": 85,
   "id": "28e3cee6",
   "metadata": {},
   "outputs": [
    {
     "name": "stdout",
     "output_type": "stream",
     "text": [
      "7 12\n"
     ]
    },
    {
     "data": {
      "text/plain": [
       "(7, 12)"
      ]
     },
     "execution_count": 85,
     "metadata": {},
     "output_type": "execute_result"
    }
   ],
   "source": [
    "is_product_available('maggie')"
   ]
  },
  {
   "cell_type": "code",
   "execution_count": null,
   "id": "be2248b5",
   "metadata": {},
   "outputs": [],
   "source": []
  }
 ],
 "metadata": {
  "kernelspec": {
   "display_name": "Python 3",
   "language": "python",
   "name": "python3"
  },
  "language_info": {
   "codemirror_mode": {
    "name": "ipython",
    "version": 3
   },
   "file_extension": ".py",
   "mimetype": "text/x-python",
   "name": "python",
   "nbconvert_exporter": "python",
   "pygments_lexer": "ipython3",
   "version": "3.8.3"
  }
 },
 "nbformat": 4,
 "nbformat_minor": 5
}

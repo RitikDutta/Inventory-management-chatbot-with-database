{
 "cells": [
  {
   "cell_type": "code",
   "execution_count": 1,
   "id": "6bff674b",
   "metadata": {},
   "outputs": [],
   "source": [
    "import firebase_admin\n",
    "from firebase_admin import credentials\n",
    "from pprint import pprint\n",
    "from firebase_admin import db"
   ]
  },
  {
   "cell_type": "code",
   "execution_count": 2,
   "id": "46db1475",
   "metadata": {},
   "outputs": [],
   "source": [
    "cred_obj = firebase_admin.credentials.Certificate('firebase.json')\n",
    "default_app = firebase_admin.initialize_app(cred_obj, {\n",
    "\t'databaseURL':'https://wellbaked-default-rtdb.firebaseio.com/'\n",
    "\t})"
   ]
  },
  {
   "cell_type": "code",
   "execution_count": 4,
   "id": "672a9781",
   "metadata": {},
   "outputs": [],
   "source": [
    "ref = db.reference(\"/\")"
   ]
  },
  {
   "cell_type": "code",
   "execution_count": 5,
   "id": "4f60a9dc",
   "metadata": {},
   "outputs": [],
   "source": [
    "def add_orders(name, quantity, product):\n",
    "    data = {\n",
    "        'current_order': current,\n",
    "        'order': [product],\n",
    "    }"
   ]
  },
  {
   "cell_type": "code",
   "execution_count": null,
   "id": "318e391a",
   "metadata": {},
   "outputs": [],
   "source": [
    "ref.child('customers').child('cool ronit').update(data)"
   ]
  },
  {
   "cell_type": "code",
   "execution_count": 48,
   "id": "03f7b737",
   "metadata": {},
   "outputs": [],
   "source": [
    "def is_priduct_available(product, pack=1):\n",
    "    data = ref.child('products').child(product).child(\"{}_pack_{}\".format(pack, product)).get()\n",
    "#     pprint(data)\n",
    "    if not bool(data):\n",
    "        print(\"product not available\")\n",
    "        quantity=0\n",
    "        price = 0\n",
    "    else:\n",
    "        quantity = data['quantity']\n",
    "        price = data['price']\n",
    "        print(quantity, price)\n",
    "    return quantity, price"
   ]
  },
  {
   "cell_type": "code",
   "execution_count": 53,
   "id": "d76c0c6f",
   "metadata": {},
   "outputs": [
    {
     "name": "stdout",
     "output_type": "stream",
     "text": [
      "10 12\n"
     ]
    },
    {
     "data": {
      "text/plain": [
       "12"
      ]
     },
     "execution_count": 53,
     "metadata": {},
     "output_type": "execute_result"
    }
   ],
   "source": [
    "is_priduct_available('maggie')[1]"
   ]
  },
  {
   "cell_type": "code",
   "execution_count": null,
   "id": "919c306a",
   "metadata": {},
   "outputs": [],
   "source": []
  }
 ],
 "metadata": {
  "kernelspec": {
   "display_name": "Python 3",
   "language": "python",
   "name": "python3"
  },
  "language_info": {
   "codemirror_mode": {
    "name": "ipython",
    "version": 3
   },
   "file_extension": ".py",
   "mimetype": "text/x-python",
   "name": "python",
   "nbconvert_exporter": "python",
   "pygments_lexer": "ipython3",
   "version": "3.8.3"
  }
 },
 "nbformat": 4,
 "nbformat_minor": 5
}

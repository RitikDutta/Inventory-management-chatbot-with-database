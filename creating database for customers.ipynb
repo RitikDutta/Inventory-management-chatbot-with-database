{
 "cells": [
  {
   "cell_type": "code",
   "execution_count": 169,
   "id": "5c953f44",
   "metadata": {},
   "outputs": [],
   "source": [
    "import firebase_admin\n",
    "from firebase_admin import credentials\n",
    "from pprint import pprint\n",
    "from firebase_admin import db"
   ]
  },
  {
   "cell_type": "code",
   "execution_count": 170,
   "id": "5c20ce0d",
   "metadata": {},
   "outputs": [
    {
     "ename": "ValueError",
     "evalue": "The default Firebase app already exists. This means you called initialize_app() more than once without providing an app name as the second argument. In most cases you only need to call initialize_app() once. But if you do want to initialize multiple apps, pass a second argument to initialize_app() to give each app a unique name.",
     "output_type": "error",
     "traceback": [
      "\u001b[0;31m---------------------------------------------------------------------------\u001b[0m",
      "\u001b[0;31mValueError\u001b[0m                                Traceback (most recent call last)",
      "\u001b[0;32m<ipython-input-170-5db612e5be82>\u001b[0m in \u001b[0;36m<module>\u001b[0;34m\u001b[0m\n\u001b[1;32m      1\u001b[0m \u001b[0mcred_obj\u001b[0m \u001b[0;34m=\u001b[0m \u001b[0mfirebase_admin\u001b[0m\u001b[0;34m.\u001b[0m\u001b[0mcredentials\u001b[0m\u001b[0;34m.\u001b[0m\u001b[0mCertificate\u001b[0m\u001b[0;34m(\u001b[0m\u001b[0;34m'firebase.json'\u001b[0m\u001b[0;34m)\u001b[0m\u001b[0;34m\u001b[0m\u001b[0;34m\u001b[0m\u001b[0m\n\u001b[0;32m----> 2\u001b[0;31m default_app = firebase_admin.initialize_app(cred_obj, {\n\u001b[0m\u001b[1;32m      3\u001b[0m         \u001b[0;34m'databaseURL'\u001b[0m\u001b[0;34m:\u001b[0m\u001b[0;34m'https://wellbaked-default-rtdb.firebaseio.com/'\u001b[0m\u001b[0;34m\u001b[0m\u001b[0;34m\u001b[0m\u001b[0m\n\u001b[1;32m      4\u001b[0m \t})\n",
      "\u001b[0;32m~/Developer_Applications/Anaconda3/envs/Retail/lib/python3.8/site-packages/firebase_admin/__init__.py\u001b[0m in \u001b[0;36minitialize_app\u001b[0;34m(credential, options, name)\u001b[0m\n\u001b[1;32m     69\u001b[0m \u001b[0;34m\u001b[0m\u001b[0m\n\u001b[1;32m     70\u001b[0m     \u001b[0;32mif\u001b[0m \u001b[0mname\u001b[0m \u001b[0;34m==\u001b[0m \u001b[0m_DEFAULT_APP_NAME\u001b[0m\u001b[0;34m:\u001b[0m\u001b[0;34m\u001b[0m\u001b[0;34m\u001b[0m\u001b[0m\n\u001b[0;32m---> 71\u001b[0;31m         raise ValueError((\n\u001b[0m\u001b[1;32m     72\u001b[0m             \u001b[0;34m'The default Firebase app already exists. This means you called '\u001b[0m\u001b[0;34m\u001b[0m\u001b[0;34m\u001b[0m\u001b[0m\n\u001b[1;32m     73\u001b[0m             \u001b[0;34m'initialize_app() more than once without providing an app name as '\u001b[0m\u001b[0;34m\u001b[0m\u001b[0;34m\u001b[0m\u001b[0m\n",
      "\u001b[0;31mValueError\u001b[0m: The default Firebase app already exists. This means you called initialize_app() more than once without providing an app name as the second argument. In most cases you only need to call initialize_app() once. But if you do want to initialize multiple apps, pass a second argument to initialize_app() to give each app a unique name."
     ]
    }
   ],
   "source": [
    "cred_obj = firebase_admin.credentials.Certificate('firebase.json')\n",
    "default_app = firebase_admin.initialize_app(cred_obj, {\n",
    "\t'databaseURL':'https://wellbaked-default-rtdb.firebaseio.com/'\n",
    "\t})"
   ]
  },
  {
   "cell_type": "code",
   "execution_count": 5,
   "id": "eb90847d",
   "metadata": {},
   "outputs": [],
   "source": [
    "ref = db.reference(\"/\")"
   ]
  },
  {
   "cell_type": "code",
   "execution_count": 48,
   "id": "0af7c57a",
   "metadata": {},
   "outputs": [],
   "source": [
    "data = {\n",
    "    'name': 'ronit',\n",
    "    'age': 54,\n",
    "    'address': '2341 andhari mumbai',\n",
    "    'mobile': 34232344,\n",
    "    'current_order': 1,\n",
    "    'order1': ['maggie', 'pasta', 'soap']\n",
    "}"
   ]
  },
  {
   "cell_type": "code",
   "execution_count": 49,
   "id": "b44c9dd0",
   "metadata": {},
   "outputs": [],
   "source": [
    "ref.child('customers').child('cool ronit').update(data)"
   ]
  },
  {
   "cell_type": "code",
   "execution_count": 55,
   "id": "341a18bc",
   "metadata": {},
   "outputs": [],
   "source": [
    "def add_order(name, product, quantity=1):\n",
    "    user = ref.child('customers').child(name).get()\n",
    "    current_order = user['current_order']\n",
    "    user['order{}'.format(current_order)].append(product)\n",
    "    ref.child('customers').child(name).update(user)\n",
    "    pprint(user)"
   ]
  },
  {
   "cell_type": "code",
   "execution_count": 58,
   "id": "18c768de",
   "metadata": {},
   "outputs": [
    {
     "ename": "AttributeError",
     "evalue": "'dict' object has no attribute 'append'",
     "output_type": "error",
     "traceback": [
      "\u001b[0;31m---------------------------------------------------------------------------\u001b[0m",
      "\u001b[0;31mAttributeError\u001b[0m                            Traceback (most recent call last)",
      "\u001b[0;32m<ipython-input-58-d7cc12a38b40>\u001b[0m in \u001b[0;36m<module>\u001b[0;34m\u001b[0m\n\u001b[0;32m----> 1\u001b[0;31m \u001b[0madd_order\u001b[0m\u001b[0;34m(\u001b[0m\u001b[0;34m'cool ronit'\u001b[0m\u001b[0;34m,\u001b[0m \u001b[0;34m'pasta'\u001b[0m\u001b[0;34m)\u001b[0m\u001b[0;34m\u001b[0m\u001b[0;34m\u001b[0m\u001b[0m\n\u001b[0m",
      "\u001b[0;32m<ipython-input-55-af1aa39600c5>\u001b[0m in \u001b[0;36madd_order\u001b[0;34m(name, product, quantity)\u001b[0m\n\u001b[1;32m      2\u001b[0m     \u001b[0muser\u001b[0m \u001b[0;34m=\u001b[0m \u001b[0mref\u001b[0m\u001b[0;34m.\u001b[0m\u001b[0mchild\u001b[0m\u001b[0;34m(\u001b[0m\u001b[0;34m'customers'\u001b[0m\u001b[0;34m)\u001b[0m\u001b[0;34m.\u001b[0m\u001b[0mchild\u001b[0m\u001b[0;34m(\u001b[0m\u001b[0mname\u001b[0m\u001b[0;34m)\u001b[0m\u001b[0;34m.\u001b[0m\u001b[0mget\u001b[0m\u001b[0;34m(\u001b[0m\u001b[0;34m)\u001b[0m\u001b[0;34m\u001b[0m\u001b[0;34m\u001b[0m\u001b[0m\n\u001b[1;32m      3\u001b[0m     \u001b[0mcurrent_order\u001b[0m \u001b[0;34m=\u001b[0m \u001b[0muser\u001b[0m\u001b[0;34m[\u001b[0m\u001b[0;34m'current_order'\u001b[0m\u001b[0;34m]\u001b[0m\u001b[0;34m\u001b[0m\u001b[0;34m\u001b[0m\u001b[0m\n\u001b[0;32m----> 4\u001b[0;31m     \u001b[0muser\u001b[0m\u001b[0;34m[\u001b[0m\u001b[0;34m'order{}'\u001b[0m\u001b[0;34m.\u001b[0m\u001b[0mformat\u001b[0m\u001b[0;34m(\u001b[0m\u001b[0mcurrent_order\u001b[0m\u001b[0;34m)\u001b[0m\u001b[0;34m]\u001b[0m\u001b[0;34m.\u001b[0m\u001b[0mappend\u001b[0m\u001b[0;34m(\u001b[0m\u001b[0mproduct\u001b[0m\u001b[0;34m)\u001b[0m\u001b[0;34m\u001b[0m\u001b[0;34m\u001b[0m\u001b[0m\n\u001b[0m\u001b[1;32m      5\u001b[0m     \u001b[0mref\u001b[0m\u001b[0;34m.\u001b[0m\u001b[0mchild\u001b[0m\u001b[0;34m(\u001b[0m\u001b[0;34m'customers'\u001b[0m\u001b[0;34m)\u001b[0m\u001b[0;34m.\u001b[0m\u001b[0mchild\u001b[0m\u001b[0;34m(\u001b[0m\u001b[0mname\u001b[0m\u001b[0;34m)\u001b[0m\u001b[0;34m.\u001b[0m\u001b[0mupdate\u001b[0m\u001b[0;34m(\u001b[0m\u001b[0muser\u001b[0m\u001b[0;34m)\u001b[0m\u001b[0;34m\u001b[0m\u001b[0;34m\u001b[0m\u001b[0m\n\u001b[1;32m      6\u001b[0m     \u001b[0mpprint\u001b[0m\u001b[0;34m(\u001b[0m\u001b[0muser\u001b[0m\u001b[0;34m)\u001b[0m\u001b[0;34m\u001b[0m\u001b[0;34m\u001b[0m\u001b[0m\n",
      "\u001b[0;31mAttributeError\u001b[0m: 'dict' object has no attribute 'append'"
     ]
    }
   ],
   "source": [
    "add_order('cool ronit', 'pasta')"
   ]
  },
  {
   "cell_type": "code",
   "execution_count": 74,
   "id": "7b1a1416",
   "metadata": {},
   "outputs": [
    {
     "name": "stdout",
     "output_type": "stream",
     "text": [
      "{'address': '2341 andhari mumbai',\n",
      " 'age': 54,\n",
      " 'current_order': 1,\n",
      " 'mobile': 34232344,\n",
      " 'name': 'ronit',\n",
      " 'order1': {'curd': 5, 'maggie': 2, 'pasta': 1, 'pop': 44}}\n"
     ]
    }
   ],
   "source": [
    "user = ref.child('customers').child('cool ronit').get()\n",
    "(user['order1'].update({'pop': 44}))\n",
    "pprint(user)"
   ]
  },
  {
   "cell_type": "code",
   "execution_count": 162,
   "id": "f3644c7c",
   "metadata": {},
   "outputs": [],
   "source": [
    "def order_dict(name, product, quantity=1):\n",
    "    user = ref.child('customers').child(name).get()\n",
    "    current_order = user['current_order']\n",
    "    orders = user['order{}'.format(current_order)]\n",
    "    orders[product] = orders.get(product, 0) + quantity\n",
    "    user['order1'].update(orders)\n",
    "    ref.child('customers').child(name).update(user)\n",
    "    pprint(user)"
   ]
  },
  {
   "cell_type": "code",
   "execution_count": 168,
   "id": "0410fdbf",
   "metadata": {},
   "outputs": [
    {
     "name": "stdout",
     "output_type": "stream",
     "text": [
      "{'address': '2341 andhari mumbai',\n",
      " 'age': 54,\n",
      " 'current_order': 1,\n",
      " 'mobile': 34232344,\n",
      " 'name': 'ronit',\n",
      " 'order1': {'cold drink': 3, 'curd': 5, 'maggie': 3, 'milk': 4, 'pasta': 3}}\n"
     ]
    }
   ],
   "source": [
    "order_dict('cool ronit', 'cold drink', 3)"
   ]
  },
  {
   "cell_type": "code",
   "execution_count": 6,
   "id": "36637b07",
   "metadata": {},
   "outputs": [],
   "source": [
    "def is_user_present(name):\n",
    "    user = ref.child('customers').get()\n",
    "    flag = False\n",
    "    for key, value in user.items():\n",
    "        if key == name:\n",
    "            flag = True\n",
    "            break\n",
    "    if flag:\n",
    "        return True\n",
    "    else:\n",
    "        return False"
   ]
  },
  {
   "cell_type": "code",
   "execution_count": 7,
   "id": "fa61880c",
   "metadata": {},
   "outputs": [],
   "source": [
    "def get_Pkey():\n",
    "    pkey = input('Private Key: ')\n",
    "    if is_user_present(pkey):\n",
    "        print('{} already present please use different user id'.format(pkey))\n",
    "        pkey = get_Pkey()\n",
    "\n",
    "    return pkey"
   ]
  },
  {
   "cell_type": "code",
   "execution_count": 8,
   "id": "b1e207fe",
   "metadata": {},
   "outputs": [],
   "source": [
    "def add_user():\n",
    "    name =    input('Name: ')\n",
    "    age =     input('Age:  ')\n",
    "    address = input('Address: ')\n",
    "    mobile =  input('Mobile: ')\n",
    "    current = 0\n",
    "    \n",
    "    if is_user_present(name):\n",
    "        print('{} please add user id'.format(name))\n",
    "        pkey = get_Pkey()\n",
    "    else:\n",
    "        print('{} is your user id'.format(name))\n",
    "        pkey = name\n",
    "    data = {\n",
    "        'name': name,\n",
    "        'age': age,\n",
    "        'address': address,\n",
    "        'mobile': mobile,\n",
    "        'current_order': 0,\n",
    "    }\n",
    "    ref.child('customers').child(pkey).set(data)\n",
    "    print('{} has been added please remember userid for next purchace')"
   ]
  },
  {
   "cell_type": "code",
   "execution_count": 7,
   "id": "c1d98268",
   "metadata": {},
   "outputs": [
    {
     "name": "stdout",
     "output_type": "stream",
     "text": [
      "Name: user1\n",
      "Age:  30\n",
      "Address: 1060 issai moghallah \n",
      "Mobile: 948576854\n",
      "user1 please add user id\n",
      "Private Key: user2\n",
      "user2 already present please use different user id\n",
      "Private Key: rekha dutta\n",
      "{} has been added please remember userid for next purchace\n"
     ]
    }
   ],
   "source": [
    "add_user()"
   ]
  },
  {
   "cell_type": "code",
   "execution_count": 9,
   "id": "f69c543f",
   "metadata": {},
   "outputs": [],
   "source": [
    "def add_orders():\n",
    "    orders = []\n",
    "    order = ''\n",
    "    user = input('enter ur user name: ')\n",
    "    while (order != 'done'):\n",
    "        order = input('add order')\n",
    "        orders.append(order)\n",
    "    print(orders)"
   ]
  },
  {
   "cell_type": "code",
   "execution_count": 47,
   "id": "99c1521e",
   "metadata": {},
   "outputs": [
    {
     "name": "stdout",
     "output_type": "stream",
     "text": [
      "enter ur user name: ritik\n",
      "add ordermaggie\n",
      "add orderpasta\n",
      "add orderchowmin\n",
      "add orderdone\n",
      "['maggie', 'pasta', 'chowmin', 'done']\n"
     ]
    }
   ],
   "source": [
    "add_orders()"
   ]
  },
  {
   "cell_type": "code",
   "execution_count": 10,
   "id": "2b85a5d8",
   "metadata": {},
   "outputs": [
    {
     "data": {
      "text/plain": [
       "'helloabc'"
      ]
     },
     "execution_count": 10,
     "metadata": {},
     "output_type": "execute_result"
    }
   ],
   "source": [
    "t = 'hello'\n",
    "t+'abc'"
   ]
  },
  {
   "cell_type": "code",
   "execution_count": 175,
   "id": "c828a9a3",
   "metadata": {},
   "outputs": [],
   "source": [
    "from random import randint"
   ]
  },
  {
   "cell_type": "code",
   "execution_count": 12,
   "id": "0aa859e2",
   "metadata": {},
   "outputs": [
    {
     "data": {
      "text/plain": [
       "4542"
      ]
     },
     "execution_count": 12,
     "metadata": {},
     "output_type": "execute_result"
    }
   ],
   "source": [
    "random.randint(0, 9999)"
   ]
  },
  {
   "cell_type": "code",
   "execution_count": 173,
   "id": "2f5a6e14",
   "metadata": {},
   "outputs": [
    {
     "name": "stdout",
     "output_type": "stream",
     "text": [
      "awesome ritik\n"
     ]
    }
   ],
   "source": [
    "import json\n",
    "word = \"ritik\"\n",
    "with open('random_words.json') as fp:\n",
    "    data = json.load(fp)\n",
    "    questions = data\n",
    "    uname = questions[\"words\"][random.randint(0,15)] + word\n",
    "    print(uname)"
   ]
  },
  {
   "cell_type": "code",
   "execution_count": 358,
   "id": "1390039e",
   "metadata": {},
   "outputs": [],
   "source": [
    "def get_user_name_word(uname):\n",
    "    random = randint(0, 15)\n",
    "    with open('random_words.json') as fp:\n",
    "        data = json.load(fp)\n",
    "    list = data\n",
    "    user = list[\"words\"][random] + uname\n",
    "    \n",
    "    if is_user_present(user):\n",
    "        print(user, \" already present asiging new name\")\n",
    "        user = get_user_name_word(uname)\n",
    "    return user"
   ]
  },
  {
   "cell_type": "code",
   "execution_count": 351,
   "id": "539e442e",
   "metadata": {},
   "outputs": [
    {
     "data": {
      "text/plain": [
       "'kind ronit'"
      ]
     },
     "execution_count": 351,
     "metadata": {},
     "output_type": "execute_result"
    }
   ],
   "source": [
    "get_user_name_word(\"ronit\")"
   ]
  },
  {
   "cell_type": "code",
   "execution_count": 359,
   "id": "d4c12474",
   "metadata": {},
   "outputs": [],
   "source": [
    "def add_user_word(name, age, address, mobile):\n",
    "#     name =    input('Name: ')\n",
    "#     age =     input('Age:  ')\n",
    "#     address = input('Address: ')\n",
    "#     mobile =  input('Mobile: ')\n",
    "    current = 0\n",
    "    \n",
    "    if is_user_present(name):\n",
    "        print('{} alreaddy present in our database assigning u new user name'.format(name))\n",
    "        pkey = get_user_name_word(name)\n",
    "    else:\n",
    "        pkey = name\n",
    "    data = {\n",
    "        'name': name,\n",
    "        'age': age,\n",
    "        'address': address,\n",
    "        'mobile': mobile,\n",
    "        'current_order': 0,\n",
    "    }\n",
    "    ref.child('customers').child(pkey).set(data)\n",
    "    print('{} is your user id please remember userid for next purchace'.format(pkey))"
   ]
  },
  {
   "cell_type": "code",
   "execution_count": 357,
   "id": "822bfdfc",
   "metadata": {},
   "outputs": [
    {
     "name": "stdout",
     "output_type": "stream",
     "text": [
      "arjun alreaddy present in our database assigning u new user name\n",
      "lucky arjun is your user id please remember userid for next purchace\n"
     ]
    }
   ],
   "source": [
    "add_user_word(\"arjun\", 21, \"1404 visajali nagar\", 39485484932)"
   ]
  },
  {
   "cell_type": "code",
   "execution_count": 346,
   "id": "667154e6",
   "metadata": {},
   "outputs": [
    {
     "data": {
      "text/plain": [
       "10"
      ]
     },
     "execution_count": 346,
     "metadata": {},
     "output_type": "execute_result"
    }
   ],
   "source": [
    "randint(10, 10)"
   ]
  }
 ],
 "metadata": {
  "kernelspec": {
   "display_name": "Python 3",
   "language": "python",
   "name": "python3"
  },
  "language_info": {
   "codemirror_mode": {
    "name": "ipython",
    "version": 3
   },
   "file_extension": ".py",
   "mimetype": "text/x-python",
   "name": "python",
   "nbconvert_exporter": "python",
   "pygments_lexer": "ipython3",
   "version": "3.8.3"
  }
 },
 "nbformat": 4,
 "nbformat_minor": 5
}

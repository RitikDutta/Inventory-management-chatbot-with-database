{
 "cells": [
  {
   "cell_type": "code",
   "execution_count": 1,
   "id": "5c953f44",
   "metadata": {},
   "outputs": [],
   "source": [
    "import firebase_admin\n",
    "from firebase_admin import credentials\n",
    "from pprint import pprint\n",
    "from firebase_admin import db"
   ]
  },
  {
   "cell_type": "code",
   "execution_count": 2,
   "id": "5c20ce0d",
   "metadata": {},
   "outputs": [],
   "source": [
    "cred_obj = firebase_admin.credentials.Certificate('firebase.json')\n",
    "default_app = firebase_admin.initialize_app(cred_obj, {\n",
    "\t'databaseURL':'https://wellbaked-default-rtdb.firebaseio.com/'\n",
    "\t})"
   ]
  },
  {
   "cell_type": "code",
   "execution_count": 3,
   "id": "eb90847d",
   "metadata": {},
   "outputs": [],
   "source": [
    "ref = db.reference(\"/\")"
   ]
  },
  {
   "cell_type": "code",
   "execution_count": 190,
   "id": "0af7c57a",
   "metadata": {},
   "outputs": [],
   "source": [
    "data = {\n",
    "    'name': 'ronit roy',\n",
    "    'age': 54,\n",
    "    'address': '2341 andhari mumbai',\n",
    "    'mobile': 34232344,\n",
    "    'current_order': 4,\n",
    "    'order1': ['maggie', 'pasta', 'soap'],\n",
    "    'order2': ['maggie', 'pasta', 'soap']\n",
    "}"
   ]
  },
  {
   "cell_type": "code",
   "execution_count": 191,
   "id": "b44c9dd0",
   "metadata": {},
   "outputs": [],
   "source": [
    "ref.child('customers').child('cool ronit').update(data)"
   ]
  },
  {
   "cell_type": "code",
   "execution_count": 6,
   "id": "36637b07",
   "metadata": {},
   "outputs": [],
   "source": [
    "def is_user_present(name):\n",
    "    user = ref.child('customers').get()\n",
    "    flag = False\n",
    "    for key, value in user.items():\n",
    "        if key == name:\n",
    "            flag = True\n",
    "            break\n",
    "    if flag:\n",
    "        return True\n",
    "    else:\n",
    "        return False"
   ]
  },
  {
   "cell_type": "code",
   "execution_count": 7,
   "id": "fa61880c",
   "metadata": {},
   "outputs": [],
   "source": [
    "def get_Pkey():\n",
    "    pkey = input('Private Key: ')\n",
    "    if is_user_present(pkey):\n",
    "        print('{} already present please use different user id'.format(pkey))\n",
    "        pkey = get_Pkey()\n",
    "\n",
    "    return pkey"
   ]
  },
  {
   "cell_type": "code",
   "execution_count": 8,
   "id": "b1e207fe",
   "metadata": {},
   "outputs": [],
   "source": [
    "def add_user():\n",
    "    name =    input('Name: ')\n",
    "    age =     input('Age:  ')\n",
    "    address = input('Address: ')\n",
    "    mobile =  input('Mobile: ')\n",
    "    current = 0\n",
    "    \n",
    "    if is_user_present(name):\n",
    "        print('{} please add user id'.format(name))\n",
    "        pkey = get_Pkey()\n",
    "    else:\n",
    "        print('{} is your user id'.format(name))\n",
    "        pkey = name\n",
    "    data = {\n",
    "        'name': name,\n",
    "        'age': age,\n",
    "        'address': address,\n",
    "        'mobile': mobile,\n",
    "        'current_order': 0,\n",
    "    }\n",
    "    ref.child('customers').child(pkey).set(data)\n",
    "    print('{} has been added please remember userid for next purchace')"
   ]
  },
  {
   "cell_type": "code",
   "execution_count": 7,
   "id": "c1d98268",
   "metadata": {},
   "outputs": [
    {
     "name": "stdout",
     "output_type": "stream",
     "text": [
      "Name: user1\n",
      "Age:  30\n",
      "Address: 1060 issai moghallah \n",
      "Mobile: 948576854\n",
      "user1 please add user id\n",
      "Private Key: user2\n",
      "user2 already present please use different user id\n",
      "Private Key: rekha dutta\n",
      "{} has been added please remember userid for next purchace\n"
     ]
    }
   ],
   "source": [
    "add_user()"
   ]
  },
  {
   "cell_type": "code",
   "execution_count": 9,
   "id": "f69c543f",
   "metadata": {},
   "outputs": [],
   "source": [
    "def add_orders():\n",
    "    orders = []\n",
    "    order = ''\n",
    "    user = input('enter ur user name: ')\n",
    "    while (order != 'done'):\n",
    "        order = input('add order')\n",
    "        orders.append(order)\n",
    "    print(orders)"
   ]
  },
  {
   "cell_type": "code",
   "execution_count": 47,
   "id": "99c1521e",
   "metadata": {},
   "outputs": [
    {
     "name": "stdout",
     "output_type": "stream",
     "text": [
      "enter ur user name: ritik\n",
      "add ordermaggie\n",
      "add orderpasta\n",
      "add orderchowmin\n",
      "add orderdone\n",
      "['maggie', 'pasta', 'chowmin', 'done']\n"
     ]
    }
   ],
   "source": [
    "add_orders()"
   ]
  },
  {
   "cell_type": "code",
   "execution_count": 10,
   "id": "2b85a5d8",
   "metadata": {},
   "outputs": [
    {
     "data": {
      "text/plain": [
       "'helloabc'"
      ]
     },
     "execution_count": 10,
     "metadata": {},
     "output_type": "execute_result"
    }
   ],
   "source": [
    "t = 'hello'\n",
    "t+'abc'"
   ]
  },
  {
   "cell_type": "code",
   "execution_count": 175,
   "id": "c828a9a3",
   "metadata": {},
   "outputs": [],
   "source": [
    "from random import randint"
   ]
  },
  {
   "cell_type": "code",
   "execution_count": 12,
   "id": "0aa859e2",
   "metadata": {},
   "outputs": [
    {
     "data": {
      "text/plain": [
       "4542"
      ]
     },
     "execution_count": 12,
     "metadata": {},
     "output_type": "execute_result"
    }
   ],
   "source": [
    "random.randint(0, 9999)"
   ]
  },
  {
   "cell_type": "code",
   "execution_count": 173,
   "id": "2f5a6e14",
   "metadata": {},
   "outputs": [
    {
     "name": "stdout",
     "output_type": "stream",
     "text": [
      "awesome ritik\n"
     ]
    }
   ],
   "source": [
    "import json\n",
    "word = \"ritik\"\n",
    "with open('random_words.json') as fp:\n",
    "    data = json.load(fp)\n",
    "    questions = data\n",
    "    uname = questions[\"words\"][random.randint(0,15)] + word\n",
    "    print(uname)"
   ]
  },
  {
   "cell_type": "code",
   "execution_count": 358,
   "id": "1390039e",
   "metadata": {},
   "outputs": [],
   "source": [
    "def get_user_name_word(uname):\n",
    "    random = randint(0, 15)\n",
    "    with open('random_words.json') as fp:\n",
    "        data = json.load(fp)\n",
    "    list = data\n",
    "    user = list[\"words\"][random] + uname\n",
    "    \n",
    "    if is_user_present(user):\n",
    "        print(user, \" already present asiging new name\")\n",
    "        user = get_user_name_word(uname)\n",
    "    return user"
   ]
  },
  {
   "cell_type": "code",
   "execution_count": 351,
   "id": "539e442e",
   "metadata": {},
   "outputs": [
    {
     "data": {
      "text/plain": [
       "'kind ronit'"
      ]
     },
     "execution_count": 351,
     "metadata": {},
     "output_type": "execute_result"
    }
   ],
   "source": [
    "get_user_name_word(\"ronit\")"
   ]
  },
  {
   "cell_type": "code",
   "execution_count": 359,
   "id": "d4c12474",
   "metadata": {},
   "outputs": [],
   "source": [
    "def add_user_word(name, age, address, mobile):\n",
    "#     name =    input('Name: ')\n",
    "#     age =     input('Age:  ')\n",
    "#     address = input('Address: ')\n",
    "#     mobile =  input('Mobile: ')\n",
    "    current = 0\n",
    "    \n",
    "    if is_user_present(name):\n",
    "        print('{} alreaddy present in our database assigning u new user name'.format(name))\n",
    "        pkey = get_user_name_word(name)\n",
    "    else:\n",
    "        pkey = name\n",
    "    data = {\n",
    "        'name': name,\n",
    "        'age': age,\n",
    "        'address': address,\n",
    "        'mobile': mobile,\n",
    "        'current_order': 0,\n",
    "    }\n",
    "    ref.child('customers').child(pkey).set(data)\n",
    "    print('{} is your user id please remember userid for next purchace'.format(pkey))"
   ]
  },
  {
   "cell_type": "code",
   "execution_count": 357,
   "id": "822bfdfc",
   "metadata": {},
   "outputs": [
    {
     "name": "stdout",
     "output_type": "stream",
     "text": [
      "arjun alreaddy present in our database assigning u new user name\n",
      "lucky arjun is your user id please remember userid for next purchace\n"
     ]
    }
   ],
   "source": [
    "add_user_word(\"arjun\", 21, \"1404 visajali nagar\", 39485484932)"
   ]
  },
  {
   "cell_type": "code",
   "execution_count": 346,
   "id": "667154e6",
   "metadata": {},
   "outputs": [
    {
     "data": {
      "text/plain": [
       "10"
      ]
     },
     "execution_count": 346,
     "metadata": {},
     "output_type": "execute_result"
    }
   ],
   "source": [
    "randint(10, 10)"
   ]
  }
 ],
 "metadata": {
  "kernelspec": {
   "display_name": "Python 3",
   "language": "python",
   "name": "python3"
  },
  "language_info": {
   "codemirror_mode": {
    "name": "ipython",
    "version": 3
   },
   "file_extension": ".py",
   "mimetype": "text/x-python",
   "name": "python",
   "nbconvert_exporter": "python",
   "pygments_lexer": "ipython3",
   "version": "3.8.3"
  }
 },
 "nbformat": 4,
 "nbformat_minor": 5
}

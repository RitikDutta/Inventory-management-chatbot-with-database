{
 "cells": [
  {
   "cell_type": "code",
   "execution_count": 1,
   "metadata": {},
   "outputs": [],
   "source": [
    "import firebase_admin\n",
    "from firebase_admin import credentials\n",
    "from pprint import pprint"
   ]
  },
  {
   "cell_type": "code",
   "execution_count": 2,
   "metadata": {},
   "outputs": [],
   "source": [
    "import firebase_admin\n",
    "\n",
    "cred_obj = firebase_admin.credentials.Certificate('firebase.json')\n",
    "default_app = firebase_admin.initialize_app(cred_obj, {\n",
    "\t'databaseURL':'https://wellbaked-default-rtdb.firebaseio.com/'\n",
    "\t})\n"
   ]
  },
  {
   "cell_type": "code",
   "execution_count": 3,
   "metadata": {},
   "outputs": [],
   "source": [
    "from firebase_admin import db\n",
    "ref = db.reference(\"/\")\n"
   ]
  },
  {
   "cell_type": "code",
   "execution_count": 4,
   "metadata": {},
   "outputs": [],
   "source": [
    "import json\n",
    "with open(\"book.json\", \"r\") as f:\n",
    "\tfile_contents = json.load(f)\n",
    "ref.set(file_contents)\n"
   ]
  },
  {
   "cell_type": "code",
   "execution_count": 5,
   "metadata": {},
   "outputs": [],
   "source": [
    "ref = db.reference(\"/\")\n",
    "ref.set({\n",
    "\t\"Books\":\n",
    "\t{\n",
    "\t\t\"Best_Sellers\": -1\n",
    "\t}\n",
    "})\n",
    "\n",
    "ref = db.reference(\"/Books/Best_Sellers\")\n",
    "import json\n",
    "with open(\"book.json\", \"r\") as f:\n",
    "\tfile_contents = json.load(f)\n",
    "\n",
    "for key, value in file_contents.items():\n",
    "\tref.push().set(value)"
   ]
  },
  {
   "cell_type": "code",
   "execution_count": 6,
   "metadata": {},
   "outputs": [
    {
     "name": "stdout",
     "output_type": "stream",
     "text": [
      "{'-Mb_fmMX_8i9_Ma4Bwjp': {'Author': 'J.R.R. Tolkien',\n",
      "                          'Genre': 'Epic fantasy',\n",
      "                          'Price': 100,\n",
      "                          'Title': 'The Fellowship of the Ring'},\n",
      " '-Mb_fmXjuoo8ZIWfktBA': {'Author': 'J.R.R. Tolkien',\n",
      "                          'Genre': 'Epic fantasy',\n",
      "                          'Price': 100,\n",
      "                          'Title': 'The Two Towers'},\n",
      " '-Mb_fmiRv4Dv0ZdXnr35': {'Author': 'J.R.R. Tolkien',\n",
      "                          'Genre': 'Epic fantasy',\n",
      "                          'Price': 100,\n",
      "                          'Title': 'The Return of the King'},\n",
      " '-Mb_fmvd-ExMv5S42Vah': {'Author': 'Paulo Coelho',\n",
      "                          'Genre': 'Fiction',\n",
      "                          'Price': 100,\n",
      "                          'Title': 'Brida'}}\n"
     ]
    }
   ],
   "source": [
    "ref = db.reference(\"/Books/Best_Sellers/\")\n",
    "best_sellers = ref.get()\n",
    "pprint(best_sellers)\n",
    "for key, value in best_sellers.items():\n",
    "\tif(value[\"Author\"] == \"J.R.R. Tolkien\"):\n",
    "\t\tvalue[\"Price\"] = 90\n",
    "\t\tref.child(key).update({\"Price\":80})\n"
   ]
  },
  {
   "cell_type": "code",
   "execution_count": 7,
   "metadata": {},
   "outputs": [
    {
     "name": "stdout",
     "output_type": "stream",
     "text": [
      "({'-Mb_fmMX_8i9_Ma4Bwjp': {'Author': 'J.R.R. Tolkien',\n",
      "                           'Genre': 'Epic fantasy',\n",
      "                           'Price': 80,\n",
      "                           'Title': 'The Fellowship of the Ring'},\n",
      "  '-Mb_fmXjuoo8ZIWfktBA': {'Author': 'J.R.R. Tolkien',\n",
      "                           'Genre': 'Epic fantasy',\n",
      "                           'Price': 80,\n",
      "                           'Title': 'The Two Towers'},\n",
      "  '-Mb_fmiRv4Dv0ZdXnr35': {'Author': 'J.R.R. Tolkien',\n",
      "                           'Genre': 'Epic fantasy',\n",
      "                           'Price': 80,\n",
      "                           'Title': 'The Return of the King'},\n",
      "  '-Mb_fmvd-ExMv5S42Vah': {'Author': 'Paulo Coelho',\n",
      "                           'Genre': 'Fiction',\n",
      "                           'Price': 100,\n",
      "                           'Title': 'Brida'}},\n",
      " 'G9GUwuDV9fz/86aq+W4TJXPLclE=')\n"
     ]
    }
   ],
   "source": [
    "pprint(ref.get('/'))"
   ]
  },
  {
   "cell_type": "code",
   "execution_count": 8,
   "metadata": {},
   "outputs": [
    {
     "name": "stdout",
     "output_type": "stream",
     "text": [
      "OrderedDict([('-Mb_fmMX_8i9_Ma4Bwjp',\n",
      "              {'Author': 'J.R.R. Tolkien',\n",
      "               'Genre': 'Epic fantasy',\n",
      "               'Price': 80,\n",
      "               'Title': 'The Fellowship of the Ring'}),\n",
      "             ('-Mb_fmXjuoo8ZIWfktBA',\n",
      "              {'Author': 'J.R.R. Tolkien',\n",
      "               'Genre': 'Epic fantasy',\n",
      "               'Price': 80,\n",
      "               'Title': 'The Two Towers'}),\n",
      "             ('-Mb_fmiRv4Dv0ZdXnr35',\n",
      "              {'Author': 'J.R.R. Tolkien',\n",
      "               'Genre': 'Epic fantasy',\n",
      "               'Price': 80,\n",
      "               'Title': 'The Return of the King'}),\n",
      "             ('-Mb_fmvd-ExMv5S42Vah',\n",
      "              {'Author': 'Paulo Coelho',\n",
      "               'Genre': 'Fiction',\n",
      "               'Price': 100,\n",
      "               'Title': 'Brida'})])\n"
     ]
    }
   ],
   "source": [
    "ref = db.reference(\"/Books/Best_Sellers/\")\n",
    "pprint(ref.order_by_child(\"Price\").get())\n"
   ]
  },
  {
   "cell_type": "code",
   "execution_count": 9,
   "metadata": {},
   "outputs": [
    {
     "name": "stdout",
     "output_type": "stream",
     "text": [
      "OrderedDict([('-Mb_fmvd-ExMv5S42Vah',\n",
      "              {'Author': 'Paulo Coelho',\n",
      "               'Genre': 'Fiction',\n",
      "               'Price': 100,\n",
      "               'Title': 'Brida'})])\n"
     ]
    }
   ],
   "source": [
    "pprint(ref.order_by_child(\"Price\").limit_to_last(1).get())"
   ]
  },
  {
   "cell_type": "code",
   "execution_count": 10,
   "metadata": {},
   "outputs": [
    {
     "name": "stdout",
     "output_type": "stream",
     "text": [
      "OrderedDict([('-Mb_fmMX_8i9_Ma4Bwjp',\n",
      "              {'Author': 'J.R.R. Tolkien',\n",
      "               'Genre': 'Epic fantasy',\n",
      "               'Price': 80,\n",
      "               'Title': 'The Fellowship of the Ring'})])\n"
     ]
    }
   ],
   "source": [
    "pprint(ref.order_by_child(\"Price\").limit_to_first(1).get()\n",
    ")"
   ]
  },
  {
   "cell_type": "code",
   "execution_count": 11,
   "metadata": {},
   "outputs": [
    {
     "data": {
      "text/plain": [
       "OrderedDict([('-Mb_fmMX_8i9_Ma4Bwjp',\n",
       "              {'Author': 'J.R.R. Tolkien',\n",
       "               'Genre': 'Epic fantasy',\n",
       "               'Price': 80,\n",
       "               'Title': 'The Fellowship of the Ring'}),\n",
       "             ('-Mb_fmXjuoo8ZIWfktBA',\n",
       "              {'Author': 'J.R.R. Tolkien',\n",
       "               'Genre': 'Epic fantasy',\n",
       "               'Price': 80,\n",
       "               'Title': 'The Two Towers'}),\n",
       "             ('-Mb_fmiRv4Dv0ZdXnr35',\n",
       "              {'Author': 'J.R.R. Tolkien',\n",
       "               'Genre': 'Epic fantasy',\n",
       "               'Price': 80,\n",
       "               'Title': 'The Return of the King'})])"
      ]
     },
     "execution_count": 11,
     "metadata": {},
     "output_type": "execute_result"
    }
   ],
   "source": [
    "ref.order_by_child(\"Price\").equal_to(80).get()"
   ]
  },
  {
   "cell_type": "code",
   "execution_count": 12,
   "metadata": {},
   "outputs": [],
   "source": [
    "ref = db.reference(\"/Books/Best_Sellers\")\n",
    "\n",
    "for key, value in best_sellers.items():\n",
    "\tif(value[\"Author\"] == \"J.R.R. Tolkien\"):\n",
    "\t\tref.child(key).set({})"
   ]
  },
  {
   "cell_type": "code",
   "execution_count": 19,
   "metadata": {},
   "outputs": [],
   "source": [
    "ref = db.reference(\"/\")\n",
    "data = {'age':40, 'addreaa':'ajmer'}\n",
    "ref.child(\"people\").child('person1').set(data)"
   ]
  },
  {
   "cell_type": "code",
   "execution_count": null,
   "metadata": {},
   "outputs": [],
   "source": []
  }
 ],
 "metadata": {
  "kernelspec": {
   "display_name": "Python 3",
   "language": "python",
   "name": "python3"
  },
  "language_info": {
   "codemirror_mode": {
    "name": "ipython",
    "version": 3
   },
   "file_extension": ".py",
   "mimetype": "text/x-python",
   "name": "python",
   "nbconvert_exporter": "python",
   "pygments_lexer": "ipython3",
   "version": "3.8.3"
  }
 },
 "nbformat": 4,
 "nbformat_minor": 2
}

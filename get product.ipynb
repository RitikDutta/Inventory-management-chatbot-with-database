{
 "cells": [
  {
   "cell_type": "code",
   "execution_count": 2,
   "id": "8de74cbc",
   "metadata": {},
   "outputs": [],
   "source": [
    "import firebase_admin\n",
    "from firebase_admin import credentials\n",
    "from pprint import pprint\n",
    "from firebase_admin import db"
   ]
  },
  {
   "cell_type": "code",
   "execution_count": 3,
   "id": "6059cb3e",
   "metadata": {},
   "outputs": [],
   "source": [
    "cred_obj = firebase_admin.credentials.Certificate('firebase.json')\n",
    "default_app = firebase_admin.initialize_app(cred_obj, {\n",
    "\t'databaseURL':'https://wellbaked-default-rtdb.firebaseio.com/'\n",
    "\t})"
   ]
  },
  {
   "cell_type": "code",
   "execution_count": 4,
   "id": "e3f10d08",
   "metadata": {},
   "outputs": [],
   "source": [
    "ref = db.reference(\"/\")"
   ]
  },
  {
   "cell_type": "code",
   "execution_count": 15,
   "id": "b3e862b7",
   "metadata": {},
   "outputs": [],
   "source": [
    "def get_product(product, pack=1):\n",
    "    pprint(ref.child('products').child(product).child(\"{}_pack_{}\".format(pack,product)).get())"
   ]
  },
  {
   "cell_type": "code",
   "execution_count": 17,
   "id": "ee373f5a",
   "metadata": {},
   "outputs": [
    {
     "name": "stdout",
     "output_type": "stream",
     "text": [
      "{'discount': 0,\n",
      " 'discription': '2 minutes',\n",
      " 'image_link': 'https://mybigplunge.com/wp-content/uploads/2015/11/Maggie-is-back-1.jpg',\n",
      " 'name': 'maggie',\n",
      " 'pack': 1,\n",
      " 'price': 12,\n",
      " 'quantity': 10}\n"
     ]
    }
   ],
   "source": [
    "get_product('maggie')"
   ]
  },
  {
   "cell_type": "code",
   "execution_count": null,
   "id": "eefb5bdf",
   "metadata": {},
   "outputs": [],
   "source": []
  }
 ],
 "metadata": {
  "kernelspec": {
   "display_name": "Python 3",
   "language": "python",
   "name": "python3"
  },
  "language_info": {
   "codemirror_mode": {
    "name": "ipython",
    "version": 3
   },
   "file_extension": ".py",
   "mimetype": "text/x-python",
   "name": "python",
   "nbconvert_exporter": "python",
   "pygments_lexer": "ipython3",
   "version": "3.8.3"
  }
 },
 "nbformat": 4,
 "nbformat_minor": 5
}

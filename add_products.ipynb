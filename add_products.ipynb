{
 "cells": [
  {
   "cell_type": "code",
   "execution_count": 1,
   "id": "c79c44cb",
   "metadata": {},
   "outputs": [],
   "source": [
    "import firebase_admin\n",
    "from firebase_admin import credentials\n",
    "from pprint import pprint\n",
    "from firebase_admin import db"
   ]
  },
  {
   "cell_type": "code",
   "execution_count": 2,
   "id": "24d9546c",
   "metadata": {},
   "outputs": [],
   "source": [
    "cred_obj = firebase_admin.credentials.Certificate('firebase.json')\n",
    "default_app = firebase_admin.initialize_app(cred_obj, {\n",
    "\t'databaseURL':'https://wellbaked-default-rtdb.firebaseio.com/'\n",
    "\t})"
   ]
  },
  {
   "cell_type": "code",
   "execution_count": 3,
   "id": "d15fdd5c",
   "metadata": {},
   "outputs": [],
   "source": [
    "ref = db.reference(\"/\")"
   ]
  },
  {
   "cell_type": "code",
   "execution_count": 24,
   "id": "68dea3f9",
   "metadata": {},
   "outputs": [],
   "source": [
    "def add_product(name, price, quantity, discription, image_link='none' , discount=0, pack=1):\n",
    "    data = {\n",
    "        'name': name,\n",
    "        'price': price,\n",
    "        'quantity': quantity,\n",
    "        'discription': discription,\n",
    "        'image_link': image_link,\n",
    "        'discount': discount,\n",
    "        'pack': pack\n",
    "    }\n",
    "    ref.child('products').child(name).child('{}_pack_{}'.format(pack, name)).update(data)"
   ]
  },
  {
   "cell_type": "code",
   "execution_count": 25,
   "id": "3cb81b08",
   "metadata": {},
   "outputs": [
    {
     "data": {
      "text/plain": [
       "'1_pack_maggie'"
      ]
     },
     "execution_count": 25,
     "metadata": {},
     "output_type": "execute_result"
    }
   ],
   "source": [
    "'{}_pack_{}'.format(1, 'maggie')"
   ]
  },
  {
   "cell_type": "code",
   "execution_count": 26,
   "id": "4e3df6ee",
   "metadata": {},
   "outputs": [],
   "source": [
    "add_product('maggie', 12, 10, '2 minutes')"
   ]
  },
  {
   "cell_type": "code",
   "execution_count": null,
   "id": "3fcfae87",
   "metadata": {},
   "outputs": [],
   "source": []
  }
 ],
 "metadata": {
  "kernelspec": {
   "display_name": "Python 3",
   "language": "python",
   "name": "python3"
  },
  "language_info": {
   "codemirror_mode": {
    "name": "ipython",
    "version": 3
   },
   "file_extension": ".py",
   "mimetype": "text/x-python",
   "name": "python",
   "nbconvert_exporter": "python",
   "pygments_lexer": "ipython3",
   "version": "3.8.3"
  }
 },
 "nbformat": 4,
 "nbformat_minor": 5
}

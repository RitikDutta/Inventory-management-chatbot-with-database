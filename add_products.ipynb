{
 "cells": [
  {
   "cell_type": "code",
   "execution_count": 1,
   "id": "c79c44cb",
   "metadata": {},
   "outputs": [],
   "source": [
    "import firebase_admin\n",
    "from firebase_admin import credentials\n",
    "from pprint import pprint\n",
    "from firebase_admin import db"
   ]
  },
  {
   "cell_type": "code",
   "execution_count": 2,
   "id": "24d9546c",
   "metadata": {},
   "outputs": [],
   "source": [
    "cred_obj = firebase_admin.credentials.Certificate('firebase.json')\n",
    "default_app = firebase_admin.initialize_app(cred_obj, {\n",
    "\t'databaseURL':'https://wellbaked-default-rtdb.firebaseio.com/'\n",
    "\t})"
   ]
  },
  {
   "cell_type": "code",
   "execution_count": 3,
   "id": "d15fdd5c",
   "metadata": {},
   "outputs": [],
   "source": [
    "ref = db.reference(\"/\")"
   ]
  },
  {
   "cell_type": "code",
   "execution_count": 4,
   "id": "68dea3f9",
   "metadata": {},
   "outputs": [],
   "source": [
    "def add_product(name, price, quantity, discription, image_link='none' , discount=0, pack=1):\n",
    "    data = {\n",
    "        'name': name,\n",
    "        'price': price,\n",
    "        'quantity': quantity,\n",
    "        'discription': discription,\n",
    "        'image_link': image_link,\n",
    "        'discount': discount,\n",
    "        'pack': pack\n",
    "    }\n",
    "    ref.child('products').child(name).child('{}_pack_{}'.format(pack, name)).update(data)"
   ]
  },
  {
   "cell_type": "code",
   "execution_count": 5,
   "id": "3cb81b08",
   "metadata": {},
   "outputs": [
    {
     "data": {
      "text/plain": [
       "'1_pack_maggie'"
      ]
     },
     "execution_count": 5,
     "metadata": {},
     "output_type": "execute_result"
    }
   ],
   "source": [
    "'{}_pack_{}'.format(1, 'maggie')"
   ]
  },
  {
   "cell_type": "code",
   "execution_count": 16,
   "id": "4e3df6ee",
   "metadata": {},
   "outputs": [
    {
     "name": "stdout",
     "output_type": "stream",
     "text": [
      "name: cold drink\n",
      "price: 22\n",
      "quantity: 40\n",
      "discription: Pepsi brings Pepsi Black & a dash of zero calorie cola with maximum tasteIt is a flavourful drink, combining sharp fizz and a lemony bite that has been quenching thirst. The ultimate thirst quencher and a provider of freshness, this drink recharges you with every sip. So go ahead, buy Pepsi Black online today!\n",
      "image link: https://www.jiomart.com/images/product/420x420/491335219/pepsi-black-250-ml-can-0-20200825.jpg\n",
      "discount: \n",
      "pack: \n",
      "Name: cold drink\n",
      "Price: 22\n",
      "Quantity: 40\n",
      "discription: Pepsi brings Pepsi Black & a dash of zero calorie cola with maximum tasteIt is a flavourful drink, combining sharp fizz and a lemony bite that has been quenching thirst. The ultimate thirst quencher and a provider of freshness, this drink recharges you with every sip. So go ahead, buy Pepsi Black online today!\n",
      "image link: https://www.jiomart.com/images/product/420x420/491335219/pepsi-black-250-ml-can-0-20200825.jpg\n",
      "discount: 0\n",
      "Pack: 1\n",
      "added\n"
     ]
    }
   ],
   "source": [
    "name = input('name: ')\n",
    "price = input('price: ')\n",
    "quantity = input('quantity: ')\n",
    "discription = input('discription: ')\n",
    "image_link = input('image link: ')\n",
    "discount = input(\"discount: \") or \"0\"\n",
    "pack = input(\"pack: \") or \"1\"\n",
    "\n",
    "print(\"Name: {}\\nPrice: {}\\nQuantity: {}\\ndiscription: {}\\nimage link: {}\\ndiscount: {}\\nPack: {}\\nadded\".format(name, price,quantity, discription, image_link, int(discount), int(pack)))\n",
    "add_product(name, int(price), int(quantity), discription, image_link, int(discount), int(pack))"
   ]
  },
  {
   "cell_type": "code",
   "execution_count": null,
   "id": "ade3e7f4",
   "metadata": {},
   "outputs": [],
   "source": []
  }
 ],
 "metadata": {
  "kernelspec": {
   "display_name": "Python 3",
   "language": "python",
   "name": "python3"
  },
  "language_info": {
   "codemirror_mode": {
    "name": "ipython",
    "version": 3
   },
   "file_extension": ".py",
   "mimetype": "text/x-python",
   "name": "python",
   "nbconvert_exporter": "python",
   "pygments_lexer": "ipython3",
   "version": "3.8.3"
  }
 },
 "nbformat": 4,
 "nbformat_minor": 5
}

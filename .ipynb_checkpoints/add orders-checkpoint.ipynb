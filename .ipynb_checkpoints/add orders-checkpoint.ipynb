{
 "cells": [
  {
   "cell_type": "code",
   "execution_count": 1,
   "id": "6bff674b",
   "metadata": {},
   "outputs": [],
   "source": [
    "import firebase_admin\n",
    "from firebase_admin import credentials\n",
    "from pprint import pprint\n",
    "from firebase_admin import db"
   ]
  },
  {
   "cell_type": "code",
   "execution_count": 2,
   "id": "46db1475",
   "metadata": {},
   "outputs": [],
   "source": [
    "cred_obj = firebase_admin.credentials.Certificate('firebase.json')\n",
    "default_app = firebase_admin.initialize_app(cred_obj, {\n",
    "\t'databaseURL':'https://wellbaked-default-rtdb.firebaseio.com/'\n",
    "\t})"
   ]
  },
  {
   "cell_type": "code",
   "execution_count": 3,
   "id": "672a9781",
   "metadata": {},
   "outputs": [],
   "source": [
    "ref = db.reference(\"/\")"
   ]
  },
  {
   "cell_type": "code",
   "execution_count": 5,
   "id": "4f60a9dc",
   "metadata": {},
   "outputs": [],
   "source": [
    "def add_orders(name, quantity, product):\n",
    "    data = {\n",
    "        'current_order': current,\n",
    "        'order': [product],\n",
    "    }"
   ]
  },
  {
   "cell_type": "code",
   "execution_count": null,
   "id": "318e391a",
   "metadata": {},
   "outputs": [],
   "source": [
    "ref.child('customers').child('cool ronit').update(data)"
   ]
  },
  {
   "cell_type": "code",
   "execution_count": 26,
   "id": "03f7b737",
   "metadata": {},
   "outputs": [],
   "source": [
    "def is_product_available(product, pack=1):\n",
    "    data = ref.child('products').child(product).child(\"{}_pack_{}\".format(pack, product)).get()\n",
    "#     pprint(data)\n",
    "    if not bool(data):\n",
    "        print(\"product not available\")\n",
    "        quantity=0\n",
    "        price = 0\n",
    "    else:\n",
    "        quantity = data['quantity']\n",
    "        price = data['price']\n",
    "        print(quantity, price)\n",
    "    return quantity, price"
   ]
  },
  {
   "cell_type": "code",
   "execution_count": 21,
   "id": "d76c0c6f",
   "metadata": {},
   "outputs": [
    {
     "name": "stdout",
     "output_type": "stream",
     "text": [
      "10 12\n"
     ]
    },
    {
     "data": {
      "text/plain": [
       "12"
      ]
     },
     "execution_count": 21,
     "metadata": {},
     "output_type": "execute_result"
    }
   ],
   "source": [
    "is_priduct_available('maggie')[1]"
   ]
  },
  {
   "cell_type": "code",
   "execution_count": 11,
   "id": "919c306a",
   "metadata": {},
   "outputs": [],
   "source": [
    "def get_orders(name):\n",
    "    data = ref.child('customers').child(name).get()\n",
    "    pprint(data['order{}'.format(data['current_order'])])"
   ]
  },
  {
   "cell_type": "code",
   "execution_count": 12,
   "id": "6e5861b2",
   "metadata": {},
   "outputs": [
    {
     "name": "stdout",
     "output_type": "stream",
     "text": [
      "{'cold drink': 7, 'curd': 5, 'maggie': 28, 'milk': 10, 'pasta': 6}\n"
     ]
    }
   ],
   "source": [
    "get_orders('cool ronit')"
   ]
  },
  {
   "cell_type": "code",
   "execution_count": 42,
   "id": "d7ca7baf",
   "metadata": {},
   "outputs": [],
   "source": [
    "def add_order_dict(name, product, quantity=1):\n",
    "  if is_product_available(product)[0] >= quantity:\n",
    "    user = ref.child('customers').child(name).get()\n",
    "    current_order = user['current_order']\n",
    "    orders = user['order{}'.format(current_order)]\n",
    "    orders[product] = orders.get(product, 0) + quantity\n",
    "    user['order{}'.format(current_order)].update(orders)\n",
    "#     ref.child('customers').child(name).update(user)\n",
    "    pprint(user)\n",
    "  else:\n",
    "    pprint(\"not applicable\")"
   ]
  },
  {
   "cell_type": "code",
   "execution_count": 59,
   "id": "4c25f230",
   "metadata": {},
   "outputs": [
    {
     "name": "stdout",
     "output_type": "stream",
     "text": [
      "cold drink 7\n",
      "curd 5\n",
      "maggie 28\n",
      "milk 10\n",
      "pasta 6\n"
     ]
    }
   ],
   "source": [
    "user = ref.child('customers').child('cool ronit').get()\n",
    "current_order = user['current_order']\n",
    "orders = user['order{}'.format(current_order)]\n",
    "for a in orders:\n",
    "    print(a, orders[a])\n",
    "#     print('*'*20)\n",
    "#     add_order_dict('cool ronit', a, -orders[a])"
   ]
  },
  {
   "cell_type": "code",
   "execution_count": 33,
   "id": "8b549a48",
   "metadata": {},
   "outputs": [
    {
     "name": "stdout",
     "output_type": "stream",
     "text": [
      "10 12\n",
      "{'address': '2341 andhari mumbai',\n",
      " 'age': 54,\n",
      " 'current_order': 1,\n",
      " 'mobile': 34232344,\n",
      " 'name': 'ronit',\n",
      " 'order1': {'cold drink': 7, 'curd': 5, 'maggie': 8, 'milk': 10, 'pasta': 6}}\n"
     ]
    }
   ],
   "source": [
    "\n",
    "add_order_dict('cool ronit', 'maggie', -20)"
   ]
  },
  {
   "cell_type": "code",
   "execution_count": null,
   "id": "b19d4c87",
   "metadata": {},
   "outputs": [],
   "source": [
    "def subt_order_dict(name, product, quantity=1):\n",
    "  if is_product_available(product)[0] >= quantity:\n",
    "    user = ref.child('customers').child(name).get()\n",
    "    current_order = user['current_order']\n",
    "    orders = user['order{}'.format(current_order)]\n",
    "    orders[product] = orders.get(product, 0) + quantity\n",
    "    user['order{}'.format(current_order)].update(orders)\n",
    "#     ref.child('customers').child(name).update(user)\n",
    "    pprint(user)\n",
    "  else:\n",
    "    pprint(\"not applicable\")"
   ]
  },
  {
   "cell_type": "code",
   "execution_count": null,
   "id": "d269a84e",
   "metadata": {},
   "outputs": [],
   "source": []
  }
 ],
 "metadata": {
  "kernelspec": {
   "display_name": "Python 3",
   "language": "python",
   "name": "python3"
  },
  "language_info": {
   "codemirror_mode": {
    "name": "ipython",
    "version": 3
   },
   "file_extension": ".py",
   "mimetype": "text/x-python",
   "name": "python",
   "nbconvert_exporter": "python",
   "pygments_lexer": "ipython3",
   "version": "3.8.3"
  }
 },
 "nbformat": 4,
 "nbformat_minor": 5
}

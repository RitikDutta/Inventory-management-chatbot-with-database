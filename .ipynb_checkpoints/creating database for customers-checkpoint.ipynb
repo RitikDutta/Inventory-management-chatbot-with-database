{
 "cells": [
  {
   "cell_type": "code",
   "execution_count": 1,
   "id": "5c953f44",
   "metadata": {},
   "outputs": [],
   "source": [
    "import firebase_admin\n",
    "from firebase_admin import credentials\n",
    "from pprint import pprint\n",
    "from firebase_admin import db"
   ]
  },
  {
   "cell_type": "code",
   "execution_count": 2,
   "id": "5c20ce0d",
   "metadata": {},
   "outputs": [],
   "source": [
    "cred_obj = firebase_admin.credentials.Certificate('firebase.json')\n",
    "default_app = firebase_admin.initialize_app(cred_obj, {\n",
    "\t'databaseURL':'https://wellbaked-default-rtdb.firebaseio.com/'\n",
    "\t})"
   ]
  },
  {
   "cell_type": "code",
   "execution_count": 3,
   "id": "eb90847d",
   "metadata": {},
   "outputs": [],
   "source": [
    "ref = db.reference(\"/\")"
   ]
  },
  {
   "cell_type": "code",
   "execution_count": 27,
   "id": "0af7c57a",
   "metadata": {},
   "outputs": [],
   "source": [
    "data = {\n",
    "    'name': 'rakshit dutta',\n",
    "    'age': 26,\n",
    "    'address': '1010 d/25 ramganj jaipur',\n",
    "    'mobile': 44843943,\n",
    "    'current_order': 2,\n",
    "}"
   ]
  },
  {
   "cell_type": "code",
   "execution_count": 28,
   "id": "b44c9dd0",
   "metadata": {},
   "outputs": [],
   "source": [
    "ref.child('customers').child('user2').set(data)"
   ]
  },
  {
   "cell_type": "code",
   "execution_count": 87,
   "id": "b8205510",
   "metadata": {},
   "outputs": [],
   "source": [
    "def is_user_present(name):\n",
    "    user = ref.child('customers').get()\n",
    "    flag = False\n",
    "    for key, value in user.items():\n",
    "        if key == name:\n",
    "            flag = True\n",
    "            break\n",
    "    if flag:\n",
    "        return True\n",
    "    else:\n",
    "        return False"
   ]
  },
  {
   "cell_type": "code",
   "execution_count": 133,
   "id": "128eb636",
   "metadata": {},
   "outputs": [],
   "source": [
    "def get_Pkey():\n",
    "    pkey = input('Private Key: ')\n",
    "    if is_user_present(pkey):\n",
    "        print('{} already present please use different user id'.format(pkey))\n",
    "        get_Pkey()\n",
    "    else:\n",
    "        print(pkey)\n",
    "    return pkey"
   ]
  },
  {
   "cell_type": "code",
   "execution_count": 130,
   "id": "b1e207fe",
   "metadata": {},
   "outputs": [],
   "source": [
    "def add_user():\n",
    "    name =    input('Name: ')\n",
    "    age =     input('Age:  ')\n",
    "    address = input('Address: ')\n",
    "    mobile =  input('Mobile: ')\n",
    "    current = 0\n",
    "    \n",
    "    if is_user_present(name):\n",
    "        print('{} please add user id'.format(name))\n",
    "        pkey = get_Pkey()\n",
    "        print(pkey)\n",
    "    else:\n",
    "        print('{} is your user id'.format(name))\n",
    "        pkey = name\n",
    "    data = {\n",
    "        'name': name,\n",
    "        'age': age,\n",
    "        'address': address,\n",
    "        'mobile': mobile,\n",
    "        'current_order': 0,\n",
    "    }\n",
    "    print(pkey)\n",
    "    ref.child('customers').child(pkey).set(data)"
   ]
  },
  {
   "cell_type": "code",
   "execution_count": 131,
   "id": "840ff2af",
   "metadata": {},
   "outputs": [
    {
     "name": "stdout",
     "output_type": "stream",
     "text": [
      "Name: user1\n",
      "Age:  22\n",
      "Address: vishali nagar\n",
      "Mobile: 4859485943\n",
      "user1 please add user id\n",
      "Private Key: user2\n",
      "user2 already present please use different user id\n",
      "Private Key: user3\n",
      "user3\n",
      "user2\n",
      "user2\n"
     ]
    }
   ],
   "source": [
    "add_user()"
   ]
  },
  {
   "cell_type": "code",
   "execution_count": 134,
   "id": "9d9440c6",
   "metadata": {},
   "outputs": [
    {
     "name": "stdout",
     "output_type": "stream",
     "text": [
      "Private Key: user1\n",
      "user1 already present please use different user id\n",
      "Private Key: user3\n",
      "user3\n",
      "None\n"
     ]
    }
   ],
   "source": [
    "print(get_Pkey())"
   ]
  },
  {
   "cell_type": "code",
   "execution_count": null,
   "id": "70408069",
   "metadata": {},
   "outputs": [],
   "source": []
  }
 ],
 "metadata": {
  "kernelspec": {
   "display_name": "Python 3",
   "language": "python",
   "name": "python3"
  },
  "language_info": {
   "codemirror_mode": {
    "name": "ipython",
    "version": 3
   },
   "file_extension": ".py",
   "mimetype": "text/x-python",
   "name": "python",
   "nbconvert_exporter": "python",
   "pygments_lexer": "ipython3",
   "version": "3.8.3"
  }
 },
 "nbformat": 4,
 "nbformat_minor": 5
}
